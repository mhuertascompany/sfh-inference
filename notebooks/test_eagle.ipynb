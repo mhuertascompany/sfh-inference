{
 "cells": [
  {
   "cell_type": "code",
   "execution_count": 1,
   "id": "a6f2a1fc",
   "metadata": {},
   "outputs": [],
   "source": [
    "import h5py\n"
   ]
  },
  {
   "cell_type": "code",
   "execution_count": null,
   "id": "d8bf3800",
   "metadata": {
    "scrolled": true
   },
   "outputs": [],
   "source": [
    "# The target directory\n",
    "data_dir = '/storage/scratch/mhuertas/data/sfh/tensorflow_datasets/eagle'\n",
    "\n",
    "import os\n",
    "import glob\n",
    "import tensorflow as tf\n",
    "import h5py as h5py\n",
    "import tensorflow_datasets as tfds\n",
    "from scipy.interpolate import interp1d\n",
    "from astropy.table import Table\n",
    "from astropy.io import fits\n",
    "import numpy as np\n",
    "import pandas as pd # To extract the SnapNumLastMajorMerger values from TNG100_SDSS_MajorMergers.csv\n",
    "from sfh.datasets.eagle import eagle\n",
    "\n",
    "\n",
    "dset = tfds.load('eagle', split='train', data_dir=data_dir)"
   ]
  }
 ],
 "metadata": {
  "interpreter": {
   "hash": "2c7dbe780e1f9efb49af50dd3c8b930511316f1727acd10ea1c5db6e62cfa82b"
  },
  "kernelspec": {
   "display_name": "Python 3.8",
   "language": "python",
   "name": "python38"
  },
  "language_info": {
   "codemirror_mode": {
    "name": "ipython",
    "version": 3
   },
   "file_extension": ".py",
   "mimetype": "text/x-python",
   "name": "python",
   "nbconvert_exporter": "python",
   "pygments_lexer": "ipython3",
   "version": "3.8.12"
  }
 },
 "nbformat": 4,
 "nbformat_minor": 5
}
